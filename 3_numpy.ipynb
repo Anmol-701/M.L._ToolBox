{
 "cells": [
  {
   "cell_type": "code",
   "execution_count": 2,
   "id": "515fb8a2-a791-437d-92a9-f05b47988bc8",
   "metadata": {},
   "outputs": [],
   "source": [
    "import numpy as np"
   ]
  },
  {
   "cell_type": "markdown",
   "id": "280f0bcb-c830-4d41-a49d-32d3687b28d4",
   "metadata": {},
   "source": [
    "## Numpy - Array Manipulation"
   ]
  },
  {
   "cell_type": "code",
   "execution_count": 4,
   "id": "06857ac9-c163-4b3c-bec3-d6fdb8c2b69e",
   "metadata": {},
   "outputs": [],
   "source": [
    "arr=np.random.randint(1,10,(4,4))"
   ]
  },
  {
   "cell_type": "code",
   "execution_count": 5,
   "id": "f2cfec03-b575-4611-8256-5be9ab94aa3a",
   "metadata": {},
   "outputs": [
    {
     "data": {
      "text/plain": [
       "array([[5, 8, 8, 2],\n",
       "       [2, 5, 9, 3],\n",
       "       [8, 6, 6, 7],\n",
       "       [4, 1, 4, 6]])"
      ]
     },
     "execution_count": 5,
     "metadata": {},
     "output_type": "execute_result"
    }
   ],
   "source": [
    "arr"
   ]
  },
  {
   "cell_type": "code",
   "execution_count": 6,
   "id": "2910fac1-166f-4049-90be-baca8da9f977",
   "metadata": {},
   "outputs": [
    {
     "data": {
      "text/plain": [
       "array([[5, 8],\n",
       "       [8, 2],\n",
       "       [2, 5],\n",
       "       [9, 3],\n",
       "       [8, 6],\n",
       "       [6, 7],\n",
       "       [4, 1],\n",
       "       [4, 6]])"
      ]
     },
     "execution_count": 6,
     "metadata": {},
     "output_type": "execute_result"
    }
   ],
   "source": [
    "arr.reshape(8,2)"
   ]
  },
  {
   "cell_type": "code",
   "execution_count": 7,
   "id": "4422f6ef-3f04-4cb6-ac67-bd7ec9e22c4e",
   "metadata": {},
   "outputs": [
    {
     "data": {
      "text/plain": [
       "array([[5, 8, 8, 2],\n",
       "       [2, 5, 9, 3],\n",
       "       [8, 6, 6, 7],\n",
       "       [4, 1, 4, 6]])"
      ]
     },
     "execution_count": 7,
     "metadata": {},
     "output_type": "execute_result"
    }
   ],
   "source": [
    "arr"
   ]
  },
  {
   "cell_type": "code",
   "execution_count": 9,
   "id": "1eacc6dd-d2e3-4a19-9cbf-c12008a2c2a0",
   "metadata": {},
   "outputs": [
    {
     "data": {
      "text/plain": [
       "array([[5, 2, 8, 4],\n",
       "       [8, 5, 6, 1],\n",
       "       [8, 9, 6, 4],\n",
       "       [2, 3, 7, 6]])"
      ]
     },
     "execution_count": 9,
     "metadata": {},
     "output_type": "execute_result"
    }
   ],
   "source": [
    "## If i have to rotate this array\n",
    "arr.T"
   ]
  },
  {
   "cell_type": "code",
   "execution_count": 11,
   "id": "657ac628-eabe-44c7-b912-54a7776ef60a",
   "metadata": {},
   "outputs": [
    {
     "data": {
      "text/plain": [
       "array([5, 8, 8, 2, 2, 5, 9, 3, 8, 6, 6, 7, 4, 1, 4, 6])"
      ]
     },
     "execution_count": 11,
     "metadata": {},
     "output_type": "execute_result"
    }
   ],
   "source": [
    "## To convert it into one dimentional array\n",
    "arr.flatten()"
   ]
  },
  {
   "cell_type": "code",
   "execution_count": 13,
   "id": "63e81c7b-54f3-4e58-b1f1-2391c5c19bc3",
   "metadata": {},
   "outputs": [
    {
     "data": {
      "text/plain": [
       "array([[[5, 8, 8, 2]],\n",
       "\n",
       "       [[2, 5, 9, 3]],\n",
       "\n",
       "       [[8, 6, 6, 7]],\n",
       "\n",
       "       [[4, 1, 4, 6]]])"
      ]
     },
     "execution_count": 13,
     "metadata": {},
     "output_type": "execute_result"
    }
   ],
   "source": [
    "## Expanding dimention of the array\n",
    "np.expand_dims(arr,axis=1)"
   ]
  },
  {
   "cell_type": "code",
   "execution_count": 15,
   "id": "031af46b-0ff1-431a-86c9-d7a73ec576bc",
   "metadata": {},
   "outputs": [],
   "source": [
    "data= np.array([[1],[2],[3]])"
   ]
  },
  {
   "cell_type": "code",
   "execution_count": 18,
   "id": "b7b4cf2b-b9f0-4938-a456-4d2c50f2d42e",
   "metadata": {},
   "outputs": [
    {
     "data": {
      "text/plain": [
       "array([1, 2, 3])"
      ]
     },
     "execution_count": 18,
     "metadata": {},
     "output_type": "execute_result"
    }
   ],
   "source": [
    "## For squeezing the array we use squeeze method of numpy\n",
    "np.squeeze(data)"
   ]
  },
  {
   "cell_type": "code",
   "execution_count": 21,
   "id": "6e9311cb-039d-4c91-8042-a3fd44147265",
   "metadata": {},
   "outputs": [
    {
     "data": {
      "text/plain": [
       "array([1, 1, 2, 2, 3, 3])"
      ]
     },
     "execution_count": 21,
     "metadata": {},
     "output_type": "execute_result"
    }
   ],
   "source": [
    "## To repeat the occurance of elements in the array\n",
    "np.repeat(data,2)"
   ]
  },
  {
   "cell_type": "code",
   "execution_count": 23,
   "id": "afd8f951-2521-453c-a3b4-69062f4106e4",
   "metadata": {},
   "outputs": [
    {
     "data": {
      "text/plain": [
       "array([[1],\n",
       "       [2],\n",
       "       [3]])"
      ]
     },
     "execution_count": 23,
     "metadata": {},
     "output_type": "execute_result"
    }
   ],
   "source": [
    "np.roll(data,3)"
   ]
  },
  {
   "cell_type": "code",
   "execution_count": 24,
   "id": "d03524d4-41d5-430e-ab28-996158529aec",
   "metadata": {},
   "outputs": [
    {
     "data": {
      "text/plain": [
       "array([[1, 0, 0, 0],\n",
       "       [0, 2, 0, 0],\n",
       "       [0, 0, 3, 0],\n",
       "       [0, 0, 0, 4]])"
      ]
     },
     "execution_count": 24,
     "metadata": {},
     "output_type": "execute_result"
    }
   ],
   "source": [
    "np.diag(np.array([1,2,3,4]))    "
   ]
  },
  {
   "cell_type": "markdown",
   "id": "e65eddd3-a3ba-4a31-b196-482e66fee540",
   "metadata": {},
   "source": [
    "## Numpy- Binary Operations."
   ]
  },
  {
   "cell_type": "code",
   "execution_count": 26,
   "id": "3e66876d-1253-4f02-a981-425b8c9fdf72",
   "metadata": {},
   "outputs": [],
   "source": [
    "arr1= np.random.randint(1,10,(3,4))\n",
    "arr2= np.random.randint(1,10,(3,4))"
   ]
  },
  {
   "cell_type": "code",
   "execution_count": 27,
   "id": "d82dc8b5-d1ad-4280-ac6a-c06df563f4e6",
   "metadata": {},
   "outputs": [
    {
     "data": {
      "text/plain": [
       "array([[7, 2, 5, 5],\n",
       "       [9, 6, 5, 4],\n",
       "       [9, 6, 8, 6]])"
      ]
     },
     "execution_count": 27,
     "metadata": {},
     "output_type": "execute_result"
    }
   ],
   "source": [
    "arr1"
   ]
  },
  {
   "cell_type": "code",
   "execution_count": 28,
   "id": "7da35323-4742-44bb-84a3-344f1ab65fdc",
   "metadata": {},
   "outputs": [
    {
     "data": {
      "text/plain": [
       "array([[5, 2, 9, 8],\n",
       "       [1, 3, 2, 6],\n",
       "       [3, 7, 7, 6]])"
      ]
     },
     "execution_count": 28,
     "metadata": {},
     "output_type": "execute_result"
    }
   ],
   "source": [
    "arr2"
   ]
  },
  {
   "cell_type": "code",
   "execution_count": 31,
   "id": "5458ffde-f8c3-4c2c-aac2-f8bbf256e571",
   "metadata": {},
   "outputs": [
    {
     "data": {
      "text/plain": [
       "array([[  16807,       4, 1953125,  390625],\n",
       "       [      9,     216,      25,    4096],\n",
       "       [    729,  279936, 2097152,   46656]])"
      ]
     },
     "execution_count": 31,
     "metadata": {},
     "output_type": "execute_result"
    }
   ],
   "source": [
    "arr1**arr2"
   ]
  },
  {
   "cell_type": "code",
   "execution_count": 32,
   "id": "817f269c-848a-41c6-acb0-e2dbd3c12edf",
   "metadata": {},
   "outputs": [
    {
     "data": {
      "text/plain": [
       "array([[ -8,  -3,  -6,  -6],\n",
       "       [-10,  -7,  -6,  -5],\n",
       "       [-10,  -7,  -9,  -7]])"
      ]
     },
     "execution_count": 32,
     "metadata": {},
     "output_type": "execute_result"
    }
   ],
   "source": [
    "~arr1"
   ]
  },
  {
   "cell_type": "code",
   "execution_count": 33,
   "id": "da341925-dc50-4c19-a24f-249f2ee56f11",
   "metadata": {},
   "outputs": [
    {
     "data": {
      "text/plain": [
       "array([[ True, False, False, False],\n",
       "       [ True,  True,  True, False],\n",
       "       [ True, False,  True, False]])"
      ]
     },
     "execution_count": 33,
     "metadata": {},
     "output_type": "execute_result"
    }
   ],
   "source": [
    "arr1>arr2"
   ]
  },
  {
   "cell_type": "markdown",
   "id": "62b5f901-205e-4d0b-bfc8-b948d2f0dcce",
   "metadata": {},
   "source": [
    "## Numpy- String Functions"
   ]
  },
  {
   "cell_type": "code",
   "execution_count": 35,
   "id": "9a439c53-de08-4e3b-bfdd-1e28c800229d",
   "metadata": {},
   "outputs": [],
   "source": [
    "arr= np.array([\"sudh\",\"kumar\"])"
   ]
  },
  {
   "cell_type": "code",
   "execution_count": 36,
   "id": "23bbc1a0-aca7-40c1-8383-3c8b7b1ffb75",
   "metadata": {},
   "outputs": [
    {
     "data": {
      "text/plain": [
       "array(['sudh', 'kumar'], dtype='<U5')"
      ]
     },
     "execution_count": 36,
     "metadata": {},
     "output_type": "execute_result"
    }
   ],
   "source": [
    "arr"
   ]
  },
  {
   "cell_type": "code",
   "execution_count": 37,
   "id": "b8ab319a-6f1c-4b1b-a2bf-ef3d4c646648",
   "metadata": {},
   "outputs": [
    {
     "data": {
      "text/plain": [
       "array(['SUDH', 'KUMAR'], dtype='<U5')"
      ]
     },
     "execution_count": 37,
     "metadata": {},
     "output_type": "execute_result"
    }
   ],
   "source": [
    "np.char.upper(arr)"
   ]
  },
  {
   "cell_type": "code",
   "execution_count": 38,
   "id": "41d1e9c4-b64d-42c7-a35f-b2d8c56255a7",
   "metadata": {},
   "outputs": [
    {
     "data": {
      "text/plain": [
       "array(['Sudh', 'Kumar'], dtype='<U5')"
      ]
     },
     "execution_count": 38,
     "metadata": {},
     "output_type": "execute_result"
    }
   ],
   "source": [
    "np.char.capitalize(arr)"
   ]
  },
  {
   "cell_type": "code",
   "execution_count": 39,
   "id": "a68b9c04-4fee-4cbb-8089-f0cc6601aaa5",
   "metadata": {},
   "outputs": [
    {
     "data": {
      "text/plain": [
       "array(['Sudh', 'Kumar'], dtype='<U5')"
      ]
     },
     "execution_count": 39,
     "metadata": {},
     "output_type": "execute_result"
    }
   ],
   "source": [
    "np.char.title(arr)"
   ]
  },
  {
   "cell_type": "markdown",
   "id": "da2f28e1-2b60-4d63-912c-83e1ff5e67d3",
   "metadata": {},
   "source": [
    "## Numpy -  Mathematical Functions"
   ]
  },
  {
   "cell_type": "code",
   "execution_count": 40,
   "id": "2a6916ed-640e-4a06-9bf5-a2413eefc431",
   "metadata": {},
   "outputs": [
    {
     "data": {
      "text/plain": [
       "array([[7, 2, 5, 5],\n",
       "       [9, 6, 5, 4],\n",
       "       [9, 6, 8, 6]])"
      ]
     },
     "execution_count": 40,
     "metadata": {},
     "output_type": "execute_result"
    }
   ],
   "source": [
    "arr1"
   ]
  },
  {
   "cell_type": "code",
   "execution_count": 41,
   "id": "63497113-87f4-4028-bc05-2976260ca009",
   "metadata": {},
   "outputs": [
    {
     "data": {
      "text/plain": [
       "array([[ 0.6569866 ,  0.90929743, -0.95892427, -0.95892427],\n",
       "       [ 0.41211849, -0.2794155 , -0.95892427, -0.7568025 ],\n",
       "       [ 0.41211849, -0.2794155 ,  0.98935825, -0.2794155 ]])"
      ]
     },
     "execution_count": 41,
     "metadata": {},
     "output_type": "execute_result"
    }
   ],
   "source": [
    "np.sin(arr1)"
   ]
  },
  {
   "cell_type": "code",
   "execution_count": 42,
   "id": "210d4fcd-52ee-4acb-b2fa-8c12aca1b38b",
   "metadata": {},
   "outputs": [
    {
     "data": {
      "text/plain": [
       "array([[ 0.75390225, -0.41614684,  0.28366219,  0.28366219],\n",
       "       [-0.91113026,  0.96017029,  0.28366219, -0.65364362],\n",
       "       [-0.91113026,  0.96017029, -0.14550003,  0.96017029]])"
      ]
     },
     "execution_count": 42,
     "metadata": {},
     "output_type": "execute_result"
    }
   ],
   "source": [
    "np.cos(arr1)"
   ]
  },
  {
   "cell_type": "code",
   "execution_count": 43,
   "id": "40ff0c7f-11fa-433e-a032-fa474e08f734",
   "metadata": {},
   "outputs": [
    {
     "data": {
      "text/plain": [
       "array([[ 0.87144798, -2.18503986, -3.38051501, -3.38051501],\n",
       "       [-0.45231566, -0.29100619, -3.38051501,  1.15782128],\n",
       "       [-0.45231566, -0.29100619, -6.79971146, -0.29100619]])"
      ]
     },
     "execution_count": 43,
     "metadata": {},
     "output_type": "execute_result"
    }
   ],
   "source": [
    "np.tan(arr1)"
   ]
  },
  {
   "cell_type": "code",
   "execution_count": 44,
   "id": "6f8557c6-9101-432a-8410-abbcfb5a083f",
   "metadata": {},
   "outputs": [
    {
     "data": {
      "text/plain": [
       "array([[0.84509804, 0.30103   , 0.69897   , 0.69897   ],\n",
       "       [0.95424251, 0.77815125, 0.69897   , 0.60205999],\n",
       "       [0.95424251, 0.77815125, 0.90308999, 0.77815125]])"
      ]
     },
     "execution_count": 44,
     "metadata": {},
     "output_type": "execute_result"
    }
   ],
   "source": [
    "np.log10(arr1)"
   ]
  },
  {
   "cell_type": "code",
   "execution_count": 45,
   "id": "4a110c4f-d551-43f7-b1f4-8b3eb435b481",
   "metadata": {},
   "outputs": [
    {
     "data": {
      "text/plain": [
       "array([[1.09663316e+03, 7.38905610e+00, 1.48413159e+02, 1.48413159e+02],\n",
       "       [8.10308393e+03, 4.03428793e+02, 1.48413159e+02, 5.45981500e+01],\n",
       "       [8.10308393e+03, 4.03428793e+02, 2.98095799e+03, 4.03428793e+02]])"
      ]
     },
     "execution_count": 45,
     "metadata": {},
     "output_type": "execute_result"
    }
   ],
   "source": [
    "np.exp(arr1)"
   ]
  },
  {
   "cell_type": "code",
   "execution_count": 47,
   "id": "78b36037-37b0-40cc-8475-3f997489d8b2",
   "metadata": {},
   "outputs": [
    {
     "data": {
      "text/plain": [
       "array([[49,  4, 25, 25],\n",
       "       [81, 36, 25, 16],\n",
       "       [81, 36, 64, 36]])"
      ]
     },
     "execution_count": 47,
     "metadata": {},
     "output_type": "execute_result"
    }
   ],
   "source": [
    "np.power(arr1,2)"
   ]
  },
  {
   "cell_type": "code",
   "execution_count": 48,
   "id": "ce884ca6-4534-4e90-890d-383a57f9ac2a",
   "metadata": {},
   "outputs": [
    {
     "data": {
      "text/plain": [
       "6.0"
      ]
     },
     "execution_count": 48,
     "metadata": {},
     "output_type": "execute_result"
    }
   ],
   "source": [
    "np.mean(arr1)"
   ]
  },
  {
   "cell_type": "code",
   "execution_count": 49,
   "id": "1b2bd722-703c-413c-ab0d-fb236efa9091",
   "metadata": {},
   "outputs": [
    {
     "data": {
      "text/plain": [
       "6.0"
      ]
     },
     "execution_count": 49,
     "metadata": {},
     "output_type": "execute_result"
    }
   ],
   "source": [
    "np.median(arr1)"
   ]
  },
  {
   "cell_type": "code",
   "execution_count": 50,
   "id": "f9dd81ae-1577-46b1-a5d9-696827ed1b19",
   "metadata": {},
   "outputs": [
    {
     "data": {
      "text/plain": [
       "1.9578900207451218"
      ]
     },
     "execution_count": 50,
     "metadata": {},
     "output_type": "execute_result"
    }
   ],
   "source": [
    "np.std(arr1)"
   ]
  },
  {
   "cell_type": "code",
   "execution_count": 51,
   "id": "b097afa4-394a-4a6d-8711-4cbc43be05e4",
   "metadata": {},
   "outputs": [
    {
     "data": {
      "text/plain": [
       "3.8333333333333335"
      ]
     },
     "execution_count": 51,
     "metadata": {},
     "output_type": "execute_result"
    }
   ],
   "source": [
    "np.var(arr1)"
   ]
  },
  {
   "cell_type": "code",
   "execution_count": 52,
   "id": "9fe4ee4e-e1c7-4565-b777-f85f77c09f69",
   "metadata": {},
   "outputs": [
    {
     "data": {
      "text/plain": [
       "9"
      ]
     },
     "execution_count": 52,
     "metadata": {},
     "output_type": "execute_result"
    }
   ],
   "source": [
    "np.max(arr1)"
   ]
  },
  {
   "cell_type": "markdown",
   "id": "2253c942-1867-4943-956f-c757f3894c55",
   "metadata": {},
   "source": [
    "## Numpy -  Arithmetic Operations"
   ]
  },
  {
   "cell_type": "code",
   "execution_count": 53,
   "id": "19309b4b-5ff0-41b4-a368-869ca0f6705d",
   "metadata": {},
   "outputs": [
    {
     "data": {
      "text/plain": [
       "array([[7, 2, 5, 5],\n",
       "       [9, 6, 5, 4],\n",
       "       [9, 6, 8, 6]])"
      ]
     },
     "execution_count": 53,
     "metadata": {},
     "output_type": "execute_result"
    }
   ],
   "source": [
    "arr1"
   ]
  },
  {
   "cell_type": "code",
   "execution_count": 54,
   "id": "17834c2a-4cf8-45de-8d35-2628400eb6f9",
   "metadata": {},
   "outputs": [
    {
     "data": {
      "text/plain": [
       "array([[ 2,  0, -4, -3],\n",
       "       [ 8,  3,  3, -2],\n",
       "       [ 6, -1,  1,  0]])"
      ]
     },
     "execution_count": 54,
     "metadata": {},
     "output_type": "execute_result"
    }
   ],
   "source": [
    "arr1 - arr2"
   ]
  },
  {
   "cell_type": "code",
   "execution_count": 55,
   "id": "54673361-d7b7-4f73-bd68-49fdc6563670",
   "metadata": {},
   "outputs": [
    {
     "data": {
      "text/plain": [
       "array([[ 2,  0, -4, -3],\n",
       "       [ 8,  3,  3, -2],\n",
       "       [ 6, -1,  1,  0]])"
      ]
     },
     "execution_count": 55,
     "metadata": {},
     "output_type": "execute_result"
    }
   ],
   "source": [
    "np.subtract(arr1,arr2)"
   ]
  },
  {
   "cell_type": "code",
   "execution_count": 56,
   "id": "04126205-e9a5-4c16-92d7-fa6544d087ac",
   "metadata": {},
   "outputs": [
    {
     "data": {
      "text/plain": [
       "array([[35,  4, 45, 40],\n",
       "       [ 9, 18, 10, 24],\n",
       "       [27, 42, 56, 36]])"
      ]
     },
     "execution_count": 56,
     "metadata": {},
     "output_type": "execute_result"
    }
   ],
   "source": [
    "np.multiply(arr1,arr2)"
   ]
  },
  {
   "cell_type": "code",
   "execution_count": 57,
   "id": "62cab335-3b02-4d19-8887-fe439e19507c",
   "metadata": {},
   "outputs": [
    {
     "data": {
      "text/plain": [
       "array([[2, 0, 5, 5],\n",
       "       [0, 0, 1, 4],\n",
       "       [0, 6, 1, 0]])"
      ]
     },
     "execution_count": 57,
     "metadata": {},
     "output_type": "execute_result"
    }
   ],
   "source": [
    "np.mod(arr1,arr2)"
   ]
  },
  {
   "cell_type": "code",
   "execution_count": 58,
   "id": "f55349c6-737c-4e77-a3f2-f4b2fb031f8c",
   "metadata": {},
   "outputs": [
    {
     "data": {
      "text/plain": [
       "array([[  16807,       4, 1953125,  390625],\n",
       "       [      9,     216,      25,    4096],\n",
       "       [    729,  279936, 2097152,   46656]])"
      ]
     },
     "execution_count": 58,
     "metadata": {},
     "output_type": "execute_result"
    }
   ],
   "source": [
    "np.power(arr1,arr2)"
   ]
  },
  {
   "cell_type": "code",
   "execution_count": 59,
   "id": "a88c6c6e-4e2d-4a8c-8253-43fd000c549f",
   "metadata": {},
   "outputs": [
    {
     "data": {
      "text/plain": [
       "array([[2.64575131, 1.41421356, 2.23606798, 2.23606798],\n",
       "       [3.        , 2.44948974, 2.23606798, 2.        ],\n",
       "       [3.        , 2.44948974, 2.82842712, 2.44948974]])"
      ]
     },
     "execution_count": 59,
     "metadata": {},
     "output_type": "execute_result"
    }
   ],
   "source": [
    "np.sqrt(arr1)"
   ]
  },
  {
   "cell_type": "markdown",
   "id": "ca58ad24-e07d-4622-9b9b-ba24eceea530",
   "metadata": {},
   "source": [
    "## Numpy - Statistical Functions"
   ]
  },
  {
   "cell_type": "code",
   "execution_count": 60,
   "id": "dbaa2405-9e7f-4e9d-8fb2-2c62ddfc5281",
   "metadata": {},
   "outputs": [
    {
     "data": {
      "text/plain": [
       "array([[7, 2, 5, 5],\n",
       "       [9, 6, 5, 4],\n",
       "       [9, 6, 8, 6]])"
      ]
     },
     "execution_count": 60,
     "metadata": {},
     "output_type": "execute_result"
    }
   ],
   "source": [
    "arr1"
   ]
  },
  {
   "cell_type": "code",
   "execution_count": 61,
   "id": "2b9db740-09db-4263-8638-4e59dde38e09",
   "metadata": {},
   "outputs": [
    {
     "data": {
      "text/plain": [
       "6.0"
      ]
     },
     "execution_count": 61,
     "metadata": {},
     "output_type": "execute_result"
    }
   ],
   "source": [
    "np.mean(arr1)"
   ]
  },
  {
   "cell_type": "code",
   "execution_count": 62,
   "id": "1da81edf-7765-4734-948f-ea4618ed227b",
   "metadata": {},
   "outputs": [
    {
     "data": {
      "text/plain": [
       "1.9578900207451218"
      ]
     },
     "execution_count": 62,
     "metadata": {},
     "output_type": "execute_result"
    }
   ],
   "source": [
    "np.std(arr1)"
   ]
  },
  {
   "cell_type": "code",
   "execution_count": 63,
   "id": "417cdd10-b1ba-4aeb-bd0f-c7d7b5223a3c",
   "metadata": {},
   "outputs": [
    {
     "data": {
      "text/plain": [
       "6.0"
      ]
     },
     "execution_count": 63,
     "metadata": {},
     "output_type": "execute_result"
    }
   ],
   "source": [
    "np.median(arr1)"
   ]
  }
 ],
 "metadata": {
  "kernelspec": {
   "display_name": "Python 3 (ipykernel)",
   "language": "python",
   "name": "python3"
  },
  "language_info": {
   "codemirror_mode": {
    "name": "ipython",
    "version": 3
   },
   "file_extension": ".py",
   "mimetype": "text/x-python",
   "name": "python",
   "nbconvert_exporter": "python",
   "pygments_lexer": "ipython3",
   "version": "3.10.8"
  }
 },
 "nbformat": 4,
 "nbformat_minor": 5
}
