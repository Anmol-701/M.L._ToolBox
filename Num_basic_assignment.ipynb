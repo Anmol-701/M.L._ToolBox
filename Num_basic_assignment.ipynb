{
 "cells": [
  {
   "cell_type": "markdown",
   "id": "25664b96-ea8b-4562-b385-d0288244081f",
   "metadata": {},
   "source": [
    "## Consider the following code to answer the below questions"
   ]
  },
  {
   "cell_type": "code",
   "execution_count": 23,
   "id": "589e17d6-6d2e-4d47-b4c6-8a041d905b68",
   "metadata": {},
   "outputs": [],
   "source": [
    "import numpy as np\n",
    "list_1=['1','2','3','4','5']\n",
    "array_list=np.array(object=list_1)"
   ]
  },
  {
   "cell_type": "markdown",
   "id": "a45db112-5ebf-4f98-8776-813698dc41e8",
   "metadata": {},
   "source": [
    "### Problem_1: Is there any difference in the data type of variable list_1 and array_list? If there is then write a code to print the data types of both the variable"
   ]
  },
  {
   "cell_type": "markdown",
   "id": "7ad243b8-61b8-4a95-a14d-de752eb0b3aa",
   "metadata": {},
   "source": [
    "  - Yes, there is difference between these two because list_1 is collection of items that can be different but the array_list is numpy array which is collection of item of same data type."
   ]
  },
  {
   "cell_type": "code",
   "execution_count": 9,
   "id": "2f932b7b-52d9-4a37-b674-43a0d006be80",
   "metadata": {},
   "outputs": [
    {
     "name": "stdout",
     "output_type": "stream",
     "text": [
      "Data type of list_1: <class 'list'>\n",
      "Data type of array_list: <class 'numpy.ndarray'>\n"
     ]
    }
   ],
   "source": [
    "# Printing the data type of both the variables\n",
    "print(\"Data type of list_1:\",type(list_1))\n",
    "print(\"Data type of array_list:\",type(array_list))"
   ]
  },
  {
   "cell_type": "markdown",
   "id": "48b451dd-9025-4859-a03f-3c0dc8ce67a2",
   "metadata": {},
   "source": [
    "### Problem_2: Write a code to print the data type of each and every element of both the variable list_1 and array_list."
   ]
  },
  {
   "cell_type": "code",
   "execution_count": 14,
   "id": "57fdeb19-60d6-491a-8656-86e95a4473ef",
   "metadata": {},
   "outputs": [
    {
     "name": "stdout",
     "output_type": "stream",
     "text": [
      "Data type of Element of list_1: <class 'str'>\n",
      "Data type of Element of list_1: <class 'str'>\n",
      "Data type of Element of list_1: <class 'str'>\n",
      "Data type of Element of list_1: <class 'str'>\n",
      "Data type of Element of list_1: <class 'str'>\n",
      "Data Type of Element of array_list: <class 'numpy.str_'>\n",
      "Data Type of Element of array_list: <class 'numpy.str_'>\n",
      "Data Type of Element of array_list: <class 'numpy.str_'>\n",
      "Data Type of Element of array_list: <class 'numpy.str_'>\n",
      "Data Type of Element of array_list: <class 'numpy.str_'>\n"
     ]
    }
   ],
   "source": [
    "# Printing the data type of each element in list_1\n",
    "for element in list_1:\n",
    "    print(\"Data type of Element of list_1:\",type(element))\n",
    "# Printing the data type of each element in array_list\n",
    "for element in array_list:\n",
    "    print(\"Data Type of Element of array_list:\",type(element))"
   ]
  },
  {
   "cell_type": "markdown",
   "id": "019340b6-fd76-4f64-ad85-6e1b19648ad2",
   "metadata": {},
   "source": [
    "### Problem_3: Consider the following change in the variable, array_list:"
   ]
  },
  {
   "cell_type": "code",
   "execution_count": 24,
   "id": "0d11ed0e-1d63-4c08-a0c2-53aae656db22",
   "metadata": {},
   "outputs": [],
   "source": [
    "array_list=np.array(object=list_1, dtype=int)"
   ]
  },
  {
   "cell_type": "markdown",
   "id": "0a8dd344-1cdd-49b3-afc8-52a2f968cb36",
   "metadata": {},
   "source": [
    "### will there be any difference in the data type of the elements present in both the variable, list_1 and array_list? If so then print the data type of each element present in both the variable, list_1 and array_list."
   ]
  },
  {
   "cell_type": "code",
   "execution_count": 26,
   "id": "65152e35-20bd-4e46-beb0-137e8734521e",
   "metadata": {},
   "outputs": [
    {
     "name": "stdout",
     "output_type": "stream",
     "text": [
      "<class 'str'>\n",
      "<class 'str'>\n",
      "<class 'str'>\n",
      "<class 'str'>\n",
      "<class 'str'>\n",
      "<class 'numpy.int64'>\n",
      "<class 'numpy.int64'>\n",
      "<class 'numpy.int64'>\n",
      "<class 'numpy.int64'>\n",
      "<class 'numpy.int64'>\n"
     ]
    }
   ],
   "source": [
    "## YES! there is difference between both the variables. Element in list_1 are type of str and  element in array_list are type of numpy integers.\n",
    "\n",
    "\n",
    "#Printing the data type of list_1:\n",
    "for element in list_1:\n",
    "    print(type(element))\n",
    "    \n",
    "#Printing the data type of array_list:\n",
    "for element in array_list:\n",
    "    print(type(element))"
   ]
  },
  {
   "cell_type": "markdown",
   "id": "d5d310ba-0f57-4b28-8935-bf6ee567eca2",
   "metadata": {},
   "source": [
    "### Consider the below code to answer the further questions:"
   ]
  },
  {
   "cell_type": "code",
   "execution_count": 21,
   "id": "100616d0-a35a-494e-82cd-6940b1e53e12",
   "metadata": {},
   "outputs": [],
   "source": [
    "import numpy as np\n",
    "num_list=[[1,2,3],[4,5,6]]\n",
    "num_array=np.array(object=num_list)"
   ]
  },
  {
   "cell_type": "markdown",
   "id": "ac9b862a-582d-4090-b7d9-d419d3d5f219",
   "metadata": {},
   "source": [
    "### Problem_4: Write a code to find the following characteristics of variable, num_array:\n",
    "### (i) shapes\n",
    "### (ii) size"
   ]
  },
  {
   "cell_type": "code",
   "execution_count": 7,
   "id": "1f63b9b9-aabe-47dc-9584-de9025e7a687",
   "metadata": {},
   "outputs": [
    {
     "name": "stdout",
     "output_type": "stream",
     "text": [
      "(2, 3)\n"
     ]
    }
   ],
   "source": [
    "# Printing the shape of num_array\n",
    "print(np.shape(num_array))"
   ]
  },
  {
   "cell_type": "code",
   "execution_count": 5,
   "id": "db7e9a3d-2c31-4d2d-a22c-0b66db5e101b",
   "metadata": {},
   "outputs": [
    {
     "name": "stdout",
     "output_type": "stream",
     "text": [
      "6\n"
     ]
    }
   ],
   "source": [
    "#Printing the size of num_array\n",
    "print(np.size(num_array))"
   ]
  },
  {
   "cell_type": "markdown",
   "id": "d42371d2-9b74-415e-92b1-d69f937a3044",
   "metadata": {},
   "source": [
    "### Problem_5 Write a code to create a numpy array of 3*3 matrix containing zeros only, using a numpy array creation function."
   ]
  },
  {
   "cell_type": "code",
   "execution_count": 13,
   "id": "7be5b57c-883b-44aa-988a-9e8c0e2990bf",
   "metadata": {},
   "outputs": [
    {
     "name": "stdout",
     "output_type": "stream",
     "text": [
      "[[0. 0. 0.]\n",
      " [0. 0. 0.]\n",
      " [0. 0. 0.]]\n"
     ]
    }
   ],
   "source": [
    "zeros_matrix=np.zeros((3,3))\n",
    "# Printing the matrix 3*3 containing zeros only\n",
    "print(zeros_matrix)"
   ]
  },
  {
   "cell_type": "markdown",
   "id": "a897aec2-6a5b-44c3-a40d-0bac33756cd0",
   "metadata": {},
   "source": [
    "### Problem_6: Create an Identity matrix of shape(5,5) using numpy functions?"
   ]
  },
  {
   "cell_type": "code",
   "execution_count": 27,
   "id": "d0620fd1-b8cb-4683-9278-e3eb19f0fef9",
   "metadata": {},
   "outputs": [
    {
     "name": "stdout",
     "output_type": "stream",
     "text": [
      "[[1. 0. 0. 0. 0.]\n",
      " [0. 1. 0. 0. 0.]\n",
      " [0. 0. 1. 0. 0.]\n",
      " [0. 0. 0. 1. 0.]\n",
      " [0. 0. 0. 0. 1.]]\n"
     ]
    }
   ],
   "source": [
    "iden= np.identity(5)\n",
    "# Printing the identity matrix\n",
    "print(iden)"
   ]
  }
 ],
 "metadata": {
  "kernelspec": {
   "display_name": "Python 3 (ipykernel)",
   "language": "python",
   "name": "python3"
  },
  "language_info": {
   "codemirror_mode": {
    "name": "ipython",
    "version": 3
   },
   "file_extension": ".py",
   "mimetype": "text/x-python",
   "name": "python",
   "nbconvert_exporter": "python",
   "pygments_lexer": "ipython3",
   "version": "3.10.8"
  }
 },
 "nbformat": 4,
 "nbformat_minor": 5
}
