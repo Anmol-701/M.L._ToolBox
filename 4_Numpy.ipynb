{
 "cells": [
  {
   "cell_type": "markdown",
   "id": "73207c4a-991a-44f7-8aac-746a78eba611",
   "metadata": {},
   "source": [
    "## Numpy - Sort, search and counting functions"
   ]
  },
  {
   "cell_type": "code",
   "execution_count": 1,
   "id": "7913bfb9-52d4-4945-afa8-74a2aa636e7e",
   "metadata": {},
   "outputs": [],
   "source": [
    "import numpy as np"
   ]
  },
  {
   "cell_type": "code",
   "execution_count": 7,
   "id": "dbfbfb65-811f-4d3b-b7c3-71858b03d8f3",
   "metadata": {},
   "outputs": [],
   "source": [
    "arr=np.array([4,2,8,1,5,23])"
   ]
  },
  {
   "cell_type": "code",
   "execution_count": 8,
   "id": "405fa6b5-4619-4a80-9702-a6f8074c6a46",
   "metadata": {},
   "outputs": [
    {
     "data": {
      "text/plain": [
       "array([ 4,  2,  8,  1,  5, 23])"
      ]
     },
     "execution_count": 8,
     "metadata": {},
     "output_type": "execute_result"
    }
   ],
   "source": [
    "arr"
   ]
  },
  {
   "cell_type": "code",
   "execution_count": 9,
   "id": "16b7c7d0-6b33-4f5c-ba2e-d4cce22facad",
   "metadata": {},
   "outputs": [
    {
     "data": {
      "text/plain": [
       "array([ 1,  2,  4,  5,  8, 23])"
      ]
     },
     "execution_count": 9,
     "metadata": {},
     "output_type": "execute_result"
    }
   ],
   "source": [
    "np.sort(arr)"
   ]
  },
  {
   "cell_type": "code",
   "execution_count": 10,
   "id": "039d620f-0b9d-4538-a3f8-767653427cd9",
   "metadata": {},
   "outputs": [
    {
     "data": {
      "text/plain": [
       "5"
      ]
     },
     "execution_count": 10,
     "metadata": {},
     "output_type": "execute_result"
    }
   ],
   "source": [
    "np.searchsorted(arr,6)"
   ]
  },
  {
   "cell_type": "code",
   "execution_count": 11,
   "id": "859c5e38-3234-4b7f-abcb-fe513a683a26",
   "metadata": {},
   "outputs": [],
   "source": [
    "arr1=np.array([0,324,645,65,2,3,12,23])"
   ]
  },
  {
   "cell_type": "code",
   "execution_count": 12,
   "id": "8bbadc2a-83ba-43c9-a573-01cfa8216775",
   "metadata": {},
   "outputs": [
    {
     "data": {
      "text/plain": [
       "7"
      ]
     },
     "execution_count": 12,
     "metadata": {},
     "output_type": "execute_result"
    }
   ],
   "source": [
    "np.count_nonzero(arr1)"
   ]
  },
  {
   "cell_type": "code",
   "execution_count": 14,
   "id": "f2bd689f-6b72-4edb-863a-6bc61f1d25ee",
   "metadata": {},
   "outputs": [
    {
     "data": {
      "text/plain": [
       "(array([1, 2, 3, 4, 5, 6, 7]),)"
      ]
     },
     "execution_count": 14,
     "metadata": {},
     "output_type": "execute_result"
    }
   ],
   "source": [
    "## At what indices data is greater than zero\n",
    "np.where(arr1>0)"
   ]
  },
  {
   "cell_type": "code",
   "execution_count": 18,
   "id": "b21380f7-555e-4210-80ae-f6d215f234fe",
   "metadata": {},
   "outputs": [
    {
     "data": {
      "text/plain": [
       "array([324, 645,  65,   3,  12,  23])"
      ]
     },
     "execution_count": 18,
     "metadata": {},
     "output_type": "execute_result"
    }
   ],
   "source": [
    "np.extract (arr1>2,arr1)"
   ]
  },
  {
   "cell_type": "markdown",
   "id": "6ecfac72-5571-4cf3-acb2-c981822e770f",
   "metadata": {},
   "source": [
    "## Numpy - Byte Swapping"
   ]
  },
  {
   "cell_type": "code",
   "execution_count": 19,
   "id": "89a06243-6411-4af1-bcd2-5d3a2fc87c28",
   "metadata": {},
   "outputs": [
    {
     "data": {
      "text/plain": [
       "array([  0, 324, 645,  65,   2,   3,  12,  23])"
      ]
     },
     "execution_count": 19,
     "metadata": {},
     "output_type": "execute_result"
    }
   ],
   "source": [
    "arr1"
   ]
  },
  {
   "cell_type": "code",
   "execution_count": 42,
   "id": "9df45275-097a-403c-8ea3-fb3e7c2bad68",
   "metadata": {},
   "outputs": [
    {
     "data": {
      "text/plain": [
       "array([ 4,  2,  8,  1,  5, 23])"
      ]
     },
     "execution_count": 42,
     "metadata": {},
     "output_type": "execute_result"
    }
   ],
   "source": [
    "## Represent data in byte format\n",
    "arr.byteswap(True)"
   ]
  },
  {
   "cell_type": "code",
   "execution_count": 43,
   "id": "46937791-c585-4f4a-8711-eb8978816038",
   "metadata": {},
   "outputs": [
    {
     "data": {
      "text/plain": [
       "array([ 4,  2,  8,  1,  5, 23])"
      ]
     },
     "execution_count": 43,
     "metadata": {},
     "output_type": "execute_result"
    }
   ],
   "source": [
    "arr"
   ]
  },
  {
   "cell_type": "markdown",
   "id": "f064884a-007f-4599-9009-55b859f44993",
   "metadata": {},
   "source": [
    "## Numpy - Copies & Views"
   ]
  },
  {
   "cell_type": "code",
   "execution_count": 44,
   "id": "be02ba87-7596-4072-8a57-bbaeb7d9901c",
   "metadata": {},
   "outputs": [
    {
     "data": {
      "text/plain": [
       "array([  0, 324, 645,  65,   2,   3,  12,  23])"
      ]
     },
     "execution_count": 44,
     "metadata": {},
     "output_type": "execute_result"
    }
   ],
   "source": [
    "arr1"
   ]
  },
  {
   "cell_type": "code",
   "execution_count": 45,
   "id": "4aa9aa83-9149-4059-9d87-10698943af33",
   "metadata": {},
   "outputs": [],
   "source": [
    "a= np.copy(arr1)"
   ]
  },
  {
   "cell_type": "code",
   "execution_count": 46,
   "id": "f0ea6ddd-fa08-488f-9a58-995301ed386c",
   "metadata": {},
   "outputs": [],
   "source": [
    "b= arr.view()"
   ]
  },
  {
   "cell_type": "code",
   "execution_count": 47,
   "id": "fcd6b2ab-7a42-4293-a678-7a23a2b2224c",
   "metadata": {},
   "outputs": [
    {
     "data": {
      "text/plain": [
       "array([ 4,  2,  8,  1,  5, 23])"
      ]
     },
     "execution_count": 47,
     "metadata": {},
     "output_type": "execute_result"
    }
   ],
   "source": [
    "b"
   ]
  },
  {
   "cell_type": "code",
   "execution_count": 48,
   "id": "6d2b0ae8-ec55-4bb6-98a5-c4a214bd331e",
   "metadata": {},
   "outputs": [],
   "source": [
    "b[0] = 234"
   ]
  },
  {
   "cell_type": "code",
   "execution_count": 49,
   "id": "2ef95284-6065-4ae9-aa83-b39bc6cfa990",
   "metadata": {},
   "outputs": [
    {
     "data": {
      "text/plain": [
       "array([234,   2,   8,   1,   5,  23])"
      ]
     },
     "execution_count": 49,
     "metadata": {},
     "output_type": "execute_result"
    }
   ],
   "source": [
    "b"
   ]
  },
  {
   "cell_type": "code",
   "execution_count": 50,
   "id": "8e615386-69db-4924-baa0-73195ba15056",
   "metadata": {},
   "outputs": [
    {
     "data": {
      "text/plain": [
       "array([234,   2,   8,   1,   5,  23])"
      ]
     },
     "execution_count": 50,
     "metadata": {},
     "output_type": "execute_result"
    }
   ],
   "source": [
    "arr"
   ]
  },
  {
   "cell_type": "markdown",
   "id": "55a6cc45-2971-4ba0-8968-3b7286ad18f8",
   "metadata": {},
   "source": [
    "## Numpy - Matrix Library"
   ]
  },
  {
   "cell_type": "code",
   "execution_count": 51,
   "id": "3c843cec-8d34-441a-8fea-a86d3e3f6f06",
   "metadata": {},
   "outputs": [],
   "source": [
    "import numpy.matlib as nm"
   ]
  },
  {
   "cell_type": "code",
   "execution_count": 52,
   "id": "1bf0d8b7-fd29-4913-8e85-4950c5db3c4e",
   "metadata": {},
   "outputs": [
    {
     "data": {
      "text/plain": [
       "matrix([[0., 0., 0., 0., 0.]])"
      ]
     },
     "execution_count": 52,
     "metadata": {},
     "output_type": "execute_result"
    }
   ],
   "source": [
    "nm.zeros(5)"
   ]
  },
  {
   "cell_type": "code",
   "execution_count": 53,
   "id": "2d75da93-c613-4ef9-b4e3-77ee237b7444",
   "metadata": {},
   "outputs": [
    {
     "data": {
      "text/plain": [
       "matrix([[1., 1., 1., 1.],\n",
       "        [1., 1., 1., 1.],\n",
       "        [1., 1., 1., 1.]])"
      ]
     },
     "execution_count": 53,
     "metadata": {},
     "output_type": "execute_result"
    }
   ],
   "source": [
    "nm.ones((3,4))"
   ]
  },
  {
   "cell_type": "code",
   "execution_count": 54,
   "id": "774ad139-6027-424c-97fe-977b62ce9866",
   "metadata": {},
   "outputs": [
    {
     "data": {
      "text/plain": [
       "matrix([[1., 0., 0., 0.],\n",
       "        [0., 1., 0., 0.],\n",
       "        [0., 0., 1., 0.],\n",
       "        [0., 0., 0., 1.]])"
      ]
     },
     "execution_count": 54,
     "metadata": {},
     "output_type": "execute_result"
    }
   ],
   "source": [
    "nm.eye(4)"
   ]
  },
  {
   "cell_type": "markdown",
   "id": "e2ca654d-2f76-459b-ad53-9e49ccb4b496",
   "metadata": {},
   "source": [
    "## Numpy - Linerar Algebra"
   ]
  },
  {
   "cell_type": "code",
   "execution_count": 59,
   "id": "8ce96224-e48b-407b-afe0-160b25e441ee",
   "metadata": {},
   "outputs": [],
   "source": [
    "arr1=np.random.randint([[2,3],[4,5]])"
   ]
  },
  {
   "cell_type": "code",
   "execution_count": 60,
   "id": "67ff0765-79da-4a6d-a017-0fac295e8641",
   "metadata": {},
   "outputs": [],
   "source": [
    "arr2=np.random.randint([[5,3] , [2,5]])"
   ]
  },
  {
   "cell_type": "code",
   "execution_count": 61,
   "id": "59721086-9059-4952-8d01-4fb6c3553fa2",
   "metadata": {},
   "outputs": [
    {
     "data": {
      "text/plain": [
       "array([[1, 1],\n",
       "       [0, 0]])"
      ]
     },
     "execution_count": 61,
     "metadata": {},
     "output_type": "execute_result"
    }
   ],
   "source": [
    "arr1"
   ]
  },
  {
   "cell_type": "code",
   "execution_count": 62,
   "id": "44c62798-c104-4863-8dc0-d9cf0d811e9b",
   "metadata": {},
   "outputs": [
    {
     "data": {
      "text/plain": [
       "array([[1, 2],\n",
       "       [0, 1]])"
      ]
     },
     "execution_count": 62,
     "metadata": {},
     "output_type": "execute_result"
    }
   ],
   "source": [
    "arr2"
   ]
  },
  {
   "cell_type": "code",
   "execution_count": 63,
   "id": "50887d15-a30c-491d-87f7-eb66a7878699",
   "metadata": {},
   "outputs": [
    {
     "data": {
      "text/plain": [
       "array([[1, 3],\n",
       "       [0, 0]])"
      ]
     },
     "execution_count": 63,
     "metadata": {},
     "output_type": "execute_result"
    }
   ],
   "source": [
    "np.dot(arr1,arr2)"
   ]
  },
  {
   "cell_type": "code",
   "execution_count": 64,
   "id": "8d41fc1f-4483-49c8-8439-3c2b6cf2e803",
   "metadata": {},
   "outputs": [
    {
     "data": {
      "text/plain": [
       "array([[1, 3],\n",
       "       [0, 0]])"
      ]
     },
     "execution_count": 64,
     "metadata": {},
     "output_type": "execute_result"
    }
   ],
   "source": [
    "arr1@arr2"
   ]
  },
  {
   "cell_type": "code",
   "execution_count": null,
   "id": "128abba3-7d72-44f4-9d69-85e07024a8d8",
   "metadata": {},
   "outputs": [],
   "source": []
  }
 ],
 "metadata": {
  "kernelspec": {
   "display_name": "Python 3 (ipykernel)",
   "language": "python",
   "name": "python3"
  },
  "language_info": {
   "codemirror_mode": {
    "name": "ipython",
    "version": 3
   },
   "file_extension": ".py",
   "mimetype": "text/x-python",
   "name": "python",
   "nbconvert_exporter": "python",
   "pygments_lexer": "ipython3",
   "version": "3.10.8"
  }
 },
 "nbformat": 4,
 "nbformat_minor": 5
}
